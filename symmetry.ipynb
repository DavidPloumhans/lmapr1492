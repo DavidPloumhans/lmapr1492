{
 "cells": [
  {
   "cell_type": "code",
   "execution_count": 1,
   "id": "1899f411",
   "metadata": {},
   "outputs": [
    {
     "name": "stdout",
     "output_type": "stream",
     "text": [
      "Defaulting to user installation because normal site-packages is not writeable\n",
      "Requirement already satisfied: mp-api in ./.local/lib/python3.9/site-packages (0.41.1)\n",
      "Requirement already satisfied: setuptools in /usr/lib/python3.9/site-packages (from mp-api) (50.3.2)\n",
      "Requirement already satisfied: msgpack in /usr/local/lib64/python3.9/site-packages (from mp-api) (1.0.7)\n",
      "Requirement already satisfied: maggma>=0.57.1 in ./.local/lib/python3.9/site-packages (from mp-api) (0.63.3)\n",
      "Requirement already satisfied: pymatgen!=2024.2.20,>=2022.3.7 in ./.local/lib/python3.9/site-packages (from mp-api) (2024.2.8)\n",
      "Requirement already satisfied: typing-extensions>=3.7.4.1 in /usr/local/lib/python3.9/site-packages (from mp-api) (4.8.0)\n",
      "Requirement already satisfied: requests>=2.23.0 in /usr/local/lib/python3.9/site-packages (from mp-api) (2.31.0)\n",
      "Requirement already satisfied: monty>=2023.9.25 in ./.local/lib/python3.9/site-packages (from mp-api) (2024.2.2)\n",
      "Requirement already satisfied: emmet-core>=0.78.0rc3 in ./.local/lib/python3.9/site-packages (from mp-api) (0.78.0rc4)\n",
      "Requirement already satisfied: smart-open in ./.local/lib/python3.9/site-packages (from mp-api) (7.0.1)\n",
      "Requirement already satisfied: pydantic>=2.0 in /usr/local/lib/python3.9/site-packages (from emmet-core>=0.78.0rc3->mp-api) (2.4.2)\n",
      "Requirement already satisfied: pydantic-settings>=2.0 in /usr/local/lib/python3.9/site-packages (from emmet-core>=0.78.0rc3->mp-api) (2.0.3)\n",
      "Requirement already satisfied: pybtex~=0.24 in /usr/local/lib/python3.9/site-packages (from emmet-core>=0.78.0rc3->mp-api) (0.24.0)\n",
      "Requirement already satisfied: ruamel.yaml<0.18 in /usr/local/lib/python3.9/site-packages (from maggma>=0.57.1->mp-api) (0.17.33)\n",
      "Requirement already satisfied: pymongo>=4.2.0 in /usr/local/lib64/python3.9/site-packages (from maggma>=0.57.1->mp-api) (4.5.0)\n",
      "Requirement already satisfied: mongomock>=3.10.0 in /usr/local/lib/python3.9/site-packages (from maggma>=0.57.1->mp-api) (4.1.2)\n",
      "Requirement already satisfied: pydash>=4.1.0 in /usr/local/lib/python3.9/site-packages (from maggma>=0.57.1->mp-api) (7.0.6)\n",
      "Requirement already satisfied: jsonschema>=3.1.1 in /usr/local/lib/python3.9/site-packages (from maggma>=0.57.1->mp-api) (4.19.1)\n",
      "Requirement already satisfied: tqdm>=4.19.6 in /usr/local/lib/python3.9/site-packages (from maggma>=0.57.1->mp-api) (4.66.1)\n",
      "Requirement already satisfied: mongogrant>=0.3.1 in /usr/local/lib/python3.9/site-packages (from maggma>=0.57.1->mp-api) (0.3.3)\n",
      "Requirement already satisfied: aioitertools>=0.5.1 in /usr/local/lib/python3.9/site-packages (from maggma>=0.57.1->mp-api) (0.11.0)\n",
      "Requirement already satisfied: numpy>=1.17.3 in /usr/local/lib64/python3.9/site-packages (from maggma>=0.57.1->mp-api) (1.26.0)\n",
      "Requirement already satisfied: fastapi>=0.42.0 in /usr/local/lib/python3.9/site-packages (from maggma>=0.57.1->mp-api) (0.103.2)\n",
      "Requirement already satisfied: pyzmq>=24.0.1 in /usr/local/lib64/python3.9/site-packages (from maggma>=0.57.1->mp-api) (24.0.1)\n",
      "Requirement already satisfied: dnspython>=1.16.0 in /usr/local/lib/python3.9/site-packages (from maggma>=0.57.1->mp-api) (2.4.2)\n",
      "Requirement already satisfied: sshtunnel>=0.1.5 in /usr/local/lib/python3.9/site-packages (from maggma>=0.57.1->mp-api) (0.4.0)\n",
      "Requirement already satisfied: orjson>=3.9.0 in /usr/local/lib64/python3.9/site-packages (from maggma>=0.57.1->mp-api) (3.9.7)\n",
      "Requirement already satisfied: boto3>=1.20.41 in /usr/local/lib/python3.9/site-packages (from maggma>=0.57.1->mp-api) (1.28.58)\n",
      "Requirement already satisfied: python-dateutil>=2.8.2 in /usr/local/lib/python3.9/site-packages (from maggma>=0.57.1->mp-api) (2.8.2)\n",
      "Requirement already satisfied: uvicorn>=0.18.3 in /usr/local/lib/python3.9/site-packages (from maggma>=0.57.1->mp-api) (0.23.2)\n",
      "Requirement already satisfied: matplotlib>=1.5 in /usr/local/lib64/python3.9/site-packages (from pymatgen!=2024.2.20,>=2022.3.7->mp-api) (3.8.0)\n",
      "Requirement already satisfied: networkx>=2.2 in /usr/local/lib/python3.9/site-packages (from pymatgen!=2024.2.20,>=2022.3.7->mp-api) (3.1)\n",
      "Requirement already satisfied: palettable>=3.1.1 in /usr/local/lib/python3.9/site-packages (from pymatgen!=2024.2.20,>=2022.3.7->mp-api) (3.3.3)\n",
      "Requirement already satisfied: pandas in /usr/local/lib64/python3.9/site-packages (from pymatgen!=2024.2.20,>=2022.3.7->mp-api) (2.1.1)\n",
      "Requirement already satisfied: plotly>=4.5.0 in /usr/local/lib/python3.9/site-packages (from pymatgen!=2024.2.20,>=2022.3.7->mp-api) (5.17.0)\n",
      "Requirement already satisfied: scipy>=1.5.0 in /usr/local/lib64/python3.9/site-packages (from pymatgen!=2024.2.20,>=2022.3.7->mp-api) (1.11.3)\n",
      "Requirement already satisfied: spglib>=2.0.2 in /usr/local/lib64/python3.9/site-packages (from pymatgen!=2024.2.20,>=2022.3.7->mp-api) (2.1.0)\n",
      "Requirement already satisfied: sympy in /usr/local/lib/python3.9/site-packages (from pymatgen!=2024.2.20,>=2022.3.7->mp-api) (1.12)\n",
      "Requirement already satisfied: tabulate in /usr/local/lib/python3.9/site-packages (from pymatgen!=2024.2.20,>=2022.3.7->mp-api) (0.9.0)\n",
      "Requirement already satisfied: uncertainties>=3.1.4 in /usr/local/lib/python3.9/site-packages (from pymatgen!=2024.2.20,>=2022.3.7->mp-api) (3.1.7)\n",
      "Requirement already satisfied: joblib in /usr/local/lib/python3.9/site-packages (from pymatgen!=2024.2.20,>=2022.3.7->mp-api) (1.3.2)\n",
      "Requirement already satisfied: charset-normalizer<4,>=2 in /usr/local/lib64/python3.9/site-packages (from requests>=2.23.0->mp-api) (3.3.0)\n",
      "Requirement already satisfied: idna<4,>=2.5 in /usr/local/lib/python3.9/site-packages (from requests>=2.23.0->mp-api) (3.4)\n",
      "Requirement already satisfied: urllib3<3,>=1.21.1 in /usr/local/lib/python3.9/site-packages (from requests>=2.23.0->mp-api) (1.26.17)\n",
      "Requirement already satisfied: certifi>=2017.4.17 in /usr/local/lib/python3.9/site-packages (from requests>=2.23.0->mp-api) (2023.7.22)\n",
      "Requirement already satisfied: wrapt in ./.local/lib/python3.9/site-packages (from smart-open->mp-api) (1.16.0)\n",
      "Requirement already satisfied: botocore<1.32.0,>=1.31.58 in /usr/local/lib/python3.9/site-packages (from boto3>=1.20.41->maggma>=0.57.1->mp-api) (1.31.58)\n",
      "Requirement already satisfied: jmespath<2.0.0,>=0.7.1 in /usr/local/lib/python3.9/site-packages (from boto3>=1.20.41->maggma>=0.57.1->mp-api) (1.0.1)\n",
      "Requirement already satisfied: s3transfer<0.8.0,>=0.7.0 in /usr/local/lib/python3.9/site-packages (from boto3>=1.20.41->maggma>=0.57.1->mp-api) (0.7.0)\n",
      "Requirement already satisfied: anyio<4.0.0,>=3.7.1 in /usr/local/lib/python3.9/site-packages (from fastapi>=0.42.0->maggma>=0.57.1->mp-api) (3.7.1)\n",
      "Requirement already satisfied: starlette<0.28.0,>=0.27.0 in /usr/local/lib/python3.9/site-packages (from fastapi>=0.42.0->maggma>=0.57.1->mp-api) (0.27.0)\n",
      "Requirement already satisfied: attrs>=22.2.0 in /usr/local/lib/python3.9/site-packages (from jsonschema>=3.1.1->maggma>=0.57.1->mp-api) (23.1.0)\n",
      "Requirement already satisfied: jsonschema-specifications>=2023.03.6 in /usr/local/lib/python3.9/site-packages (from jsonschema>=3.1.1->maggma>=0.57.1->mp-api) (2023.7.1)\n",
      "Requirement already satisfied: referencing>=0.28.4 in /usr/local/lib/python3.9/site-packages (from jsonschema>=3.1.1->maggma>=0.57.1->mp-api) (0.30.2)\n",
      "Requirement already satisfied: rpds-py>=0.7.1 in /usr/local/lib64/python3.9/site-packages (from jsonschema>=3.1.1->maggma>=0.57.1->mp-api) (0.10.3)\n",
      "Requirement already satisfied: contourpy>=1.0.1 in /usr/local/lib64/python3.9/site-packages (from matplotlib>=1.5->pymatgen!=2024.2.20,>=2022.3.7->mp-api) (1.1.1)\n",
      "Requirement already satisfied: cycler>=0.10 in /usr/local/lib/python3.9/site-packages (from matplotlib>=1.5->pymatgen!=2024.2.20,>=2022.3.7->mp-api) (0.12.0)\n",
      "Requirement already satisfied: fonttools>=4.22.0 in /usr/local/lib64/python3.9/site-packages (from matplotlib>=1.5->pymatgen!=2024.2.20,>=2022.3.7->mp-api) (4.43.0)\n",
      "Requirement already satisfied: kiwisolver>=1.0.1 in /usr/local/lib64/python3.9/site-packages (from matplotlib>=1.5->pymatgen!=2024.2.20,>=2022.3.7->mp-api) (1.4.5)\n",
      "Requirement already satisfied: packaging>=20.0 in /usr/local/lib/python3.9/site-packages (from matplotlib>=1.5->pymatgen!=2024.2.20,>=2022.3.7->mp-api) (23.2)\n",
      "Requirement already satisfied: pillow>=6.2.0 in /usr/local/lib64/python3.9/site-packages (from matplotlib>=1.5->pymatgen!=2024.2.20,>=2022.3.7->mp-api) (10.0.1)\n",
      "Requirement already satisfied: pyparsing>=2.3.1 in /usr/local/lib/python3.9/site-packages (from matplotlib>=1.5->pymatgen!=2024.2.20,>=2022.3.7->mp-api) (3.1.1)\n",
      "Requirement already satisfied: importlib-resources>=3.2.0 in /usr/local/lib/python3.9/site-packages (from matplotlib>=1.5->pymatgen!=2024.2.20,>=2022.3.7->mp-api) (6.1.0)\n",
      "Requirement already satisfied: Click in /usr/local/lib/python3.9/site-packages (from mongogrant>=0.3.1->maggma>=0.57.1->mp-api) (8.1.7)\n",
      "Requirement already satisfied: Flask>=1.0 in /usr/local/lib/python3.9/site-packages (from mongogrant>=0.3.1->maggma>=0.57.1->mp-api) (3.0.0)\n",
      "Requirement already satisfied: sentinels in /usr/local/lib/python3.9/site-packages (from mongomock>=3.10.0->maggma>=0.57.1->mp-api) (1.0.0)\n",
      "Requirement already satisfied: tenacity>=6.2.0 in /usr/local/lib/python3.9/site-packages (from plotly>=4.5.0->pymatgen!=2024.2.20,>=2022.3.7->mp-api) (8.2.3)\n",
      "Requirement already satisfied: PyYAML>=3.01 in /usr/local/lib64/python3.9/site-packages (from pybtex~=0.24->emmet-core>=0.78.0rc3->mp-api) (6.0.1)\n",
      "Requirement already satisfied: latexcodec>=1.0.4 in /usr/local/lib/python3.9/site-packages (from pybtex~=0.24->emmet-core>=0.78.0rc3->mp-api) (2.0.1)\n",
      "Requirement already satisfied: six in /usr/local/lib/python3.9/site-packages (from pybtex~=0.24->emmet-core>=0.78.0rc3->mp-api) (1.16.0)\n",
      "Requirement already satisfied: annotated-types>=0.4.0 in /usr/local/lib/python3.9/site-packages (from pydantic>=2.0->emmet-core>=0.78.0rc3->mp-api) (0.5.0)\n",
      "Requirement already satisfied: pydantic-core==2.10.1 in /usr/local/lib64/python3.9/site-packages (from pydantic>=2.0->emmet-core>=0.78.0rc3->mp-api) (2.10.1)\n",
      "Requirement already satisfied: python-dotenv>=0.21.0 in /usr/local/lib/python3.9/site-packages (from pydantic-settings>=2.0->emmet-core>=0.78.0rc3->mp-api) (1.0.0)\n",
      "Requirement already satisfied: ruamel.yaml.clib>=0.2.7 in /usr/local/lib64/python3.9/site-packages (from ruamel.yaml<0.18->maggma>=0.57.1->mp-api) (0.2.7)\n",
      "Requirement already satisfied: paramiko>=2.7.2 in /usr/local/lib/python3.9/site-packages (from sshtunnel>=0.1.5->maggma>=0.57.1->mp-api) (3.3.1)\n",
      "Requirement already satisfied: future in /usr/local/lib/python3.9/site-packages (from uncertainties>=3.1.4->pymatgen!=2024.2.20,>=2022.3.7->mp-api) (0.18.3)\n",
      "Requirement already satisfied: h11>=0.8 in /usr/local/lib/python3.9/site-packages (from uvicorn>=0.18.3->maggma>=0.57.1->mp-api) (0.14.0)\n",
      "Requirement already satisfied: pytz>=2020.1 in /usr/local/lib/python3.9/site-packages (from pandas->pymatgen!=2024.2.20,>=2022.3.7->mp-api) (2023.3.post1)\n",
      "Requirement already satisfied: tzdata>=2022.1 in /usr/local/lib/python3.9/site-packages (from pandas->pymatgen!=2024.2.20,>=2022.3.7->mp-api) (2023.3)\n",
      "Requirement already satisfied: mpmath>=0.19 in /usr/local/lib/python3.9/site-packages (from sympy->pymatgen!=2024.2.20,>=2022.3.7->mp-api) (1.3.0)\n",
      "Requirement already satisfied: sniffio>=1.1 in /usr/local/lib/python3.9/site-packages (from anyio<4.0.0,>=3.7.1->fastapi>=0.42.0->maggma>=0.57.1->mp-api) (1.3.0)\n",
      "Requirement already satisfied: exceptiongroup in /usr/local/lib/python3.9/site-packages (from anyio<4.0.0,>=3.7.1->fastapi>=0.42.0->maggma>=0.57.1->mp-api) (1.1.3)\n",
      "Requirement already satisfied: Werkzeug>=3.0.0 in /usr/local/lib/python3.9/site-packages (from Flask>=1.0->mongogrant>=0.3.1->maggma>=0.57.1->mp-api) (3.0.0)\n",
      "Requirement already satisfied: Jinja2>=3.1.2 in /usr/local/lib/python3.9/site-packages (from Flask>=1.0->mongogrant>=0.3.1->maggma>=0.57.1->mp-api) (3.1.2)\n",
      "Requirement already satisfied: itsdangerous>=2.1.2 in /usr/local/lib/python3.9/site-packages (from Flask>=1.0->mongogrant>=0.3.1->maggma>=0.57.1->mp-api) (2.1.2)\n",
      "Requirement already satisfied: blinker>=1.6.2 in /usr/local/lib/python3.9/site-packages (from Flask>=1.0->mongogrant>=0.3.1->maggma>=0.57.1->mp-api) (1.6.2)\n",
      "Requirement already satisfied: importlib-metadata>=3.6.0 in /usr/local/lib/python3.9/site-packages (from Flask>=1.0->mongogrant>=0.3.1->maggma>=0.57.1->mp-api) (6.8.0)\n",
      "Requirement already satisfied: zipp>=3.1.0 in /usr/local/lib/python3.9/site-packages (from importlib-resources>=3.2.0->matplotlib>=1.5->pymatgen!=2024.2.20,>=2022.3.7->mp-api) (3.17.0)\n",
      "Requirement already satisfied: bcrypt>=3.2 in /usr/local/lib64/python3.9/site-packages (from paramiko>=2.7.2->sshtunnel>=0.1.5->maggma>=0.57.1->mp-api) (4.0.1)\n",
      "Requirement already satisfied: cryptography>=3.3 in /usr/local/lib64/python3.9/site-packages (from paramiko>=2.7.2->sshtunnel>=0.1.5->maggma>=0.57.1->mp-api) (41.0.4)\n",
      "Requirement already satisfied: pynacl>=1.5 in /usr/local/lib64/python3.9/site-packages (from paramiko>=2.7.2->sshtunnel>=0.1.5->maggma>=0.57.1->mp-api) (1.5.0)\n",
      "Requirement already satisfied: cffi>=1.12 in /usr/local/lib64/python3.9/site-packages (from cryptography>=3.3->paramiko>=2.7.2->sshtunnel>=0.1.5->maggma>=0.57.1->mp-api) (1.16.0)\n",
      "Requirement already satisfied: MarkupSafe>=2.0 in /usr/local/lib64/python3.9/site-packages (from Jinja2>=3.1.2->Flask>=1.0->mongogrant>=0.3.1->maggma>=0.57.1->mp-api) (2.1.3)\n",
      "Requirement already satisfied: pycparser in /usr/local/lib/python3.9/site-packages (from cffi>=1.12->cryptography>=3.3->paramiko>=2.7.2->sshtunnel>=0.1.5->maggma>=0.57.1->mp-api) (2.21)\n"
     ]
    }
   ],
   "source": [
    "!pip install mp-api --upgrade\n",
    "import numpy as np\n",
    "#from pymatgen.ext.matproj import MPRester\n",
    "from mp_api.client import MPRester\n",
    "from pymatgen.core.operations import SymmOp\n",
    "from pymatgen.symmetry.analyzer import SpacegroupAnalyzer\n",
    "from pymatgen.electronic_structure.plotter import BSPlotter\n",
    "from pymatgen.phonon.plotter import PhononBSPlotter\n",
    "from jupyter_jsmol.pymatgen import quick_view\n",
    "from lmapr1492 import plot_brillouin_zone, get_plot_bs, get_plot_dos, get_plot_bs_and_dos, get_branch_wavevectors\n",
    "from plotly.subplots import make_subplots\n",
    "import plotly.graph_objects as go"
   ]
  },
  {
   "cell_type": "code",
   "execution_count": 2,
   "id": "450d6bcf",
   "metadata": {},
   "outputs": [],
   "source": [
    "mp_key = \"x6hAWrx1l7nO3pcKMHzrj9I3u9zQTpCo\"\n",
    "mp_id = \"mp-924130\""
   ]
  },
  {
   "cell_type": "raw",
   "id": "9b7fe81f",
   "metadata": {},
   "source": [
    "Récupère la structure du matériau en maille conventionelle "
   ]
  },
  {
   "cell_type": "code",
   "execution_count": 4,
   "id": "7c2c1e00",
   "metadata": {},
   "outputs": [
    {
     "data": {
      "application/vnd.jupyter.widget-view+json": {
       "model_id": "8fc8db266379491e8f7c4228b4a7abc6",
       "version_major": 2,
       "version_minor": 0
      },
      "text/plain": [
       "Retrieving MaterialsDoc documents:   0%|          | 0/1 [00:00<?, ?it/s]"
      ]
     },
     "metadata": {},
     "output_type": "display_data"
    },
    {
     "name": "stdout",
     "output_type": "stream",
     "text": [
      "Full Formula (Ti4 Ni4 Sn4)\n",
      "Reduced Formula: TiNiSn\n",
      "abc   :   5.906882   5.906882   5.906882\n",
      "angles:  90.000000  90.000000  90.000000\n",
      "pbc   :       True       True       True\n",
      "Sites (12)\n",
      "  #  SP       a     b     c\n",
      "---  ----  ----  ----  ----\n",
      "  0  Ti    0.5   0.5   0\n",
      "  1  Ti    0.5   0     0.5\n",
      "  2  Ti    0     0.5   0.5\n",
      "  3  Ti    0     0     0\n",
      "  4  Ni    0.25  0.25  0.25\n",
      "  5  Ni    0.25  0.75  0.75\n",
      "  6  Ni    0.75  0.25  0.75\n",
      "  7  Ni    0.75  0.75  0.25\n",
      "  8  Sn    0     0.5   0\n",
      "  9  Sn    0     0     0.5\n",
      " 10  Sn    0.5   0.5   0.5\n",
      " 11  Sn    0.5   0     0\n"
     ]
    }
   ],
   "source": [
    "m = MPRester(mp_key)\n",
    "struct = m.get_structure_by_material_id(mp_id, conventional_unit_cell=True)\n",
    "print(struct)\n",
    "# Coordonnées de 3 atomes dans la maille conventionelle\n",
    "Ti = [0, 0, 0]\n",
    "Ni = [0.25, 0.25, 0.25]\n",
    "Sn = [0.5, 0, 0]"
   ]
  },
  {
   "cell_type": "code",
   "execution_count": 62,
   "id": "4d32ffe6",
   "metadata": {},
   "outputs": [
    {
     "data": {
      "application/vnd.jupyter.widget-view+json": {
       "model_id": "bb0929056bc34ad5947fd020d7ef83d6",
       "version_major": 2,
       "version_minor": 0
      },
      "text/plain": [
       "JsmolView(layout=Layout(align_self='stretch', height='400px'))"
      ]
     },
     "metadata": {},
     "output_type": "display_data"
    }
   ],
   "source": [
    "# Je n'arrive vraiment pas à faire fonctionner quick_view\n",
    "\n",
    "view.script()"
   ]
  },
  {
   "cell_type": "code",
   "execution_count": 5,
   "id": "fe976ae2",
   "metadata": {},
   "outputs": [],
   "source": [
    "sga = SpacegroupAnalyzer(struct)\n",
    "# Toutes les opérations de symétrie possibles\n",
    "sym = sga.get_symmetry_operations()\n",
    "# J'en sélectionne 3 en étant sûr de rejeter l'opération identité\n",
    "sym1 = sym[1] \n",
    "sym2 = sym[4]\n",
    "sym3 = sym[2]"
   ]
  },
  {
   "cell_type": "markdown",
   "id": "60479fdf",
   "metadata": {},
   "source": [
    "Simples calculs matriciels résolues sur papier pour trouver les [x, y , z] après l'application de l'opération"
   ]
  },
  {
   "cell_type": "code",
   "execution_count": 6,
   "id": "9a03b5f3",
   "metadata": {},
   "outputs": [
    {
     "name": "stdout",
     "output_type": "stream",
     "text": [
      "Première opération de symétrie\n",
      "==================================================\n",
      "Opération :\n",
      " Rot:\n",
      "[[ 0.  1.  0.]\n",
      " [-1.  0.  0.]\n",
      " [ 0.  0. -1.]]\n",
      "tau\n",
      "[0. 0. 0.]\n",
      "Atome étudié : Ni\n",
      "Position avant l'opération : [0.25, 0.25, 0.25]\n",
      "Position après l'opération : [ 0.25 -0.25 -0.25]\n",
      "Cette opération est une rotation de -90° (sens trigonométrique = sens positif) selon l'axe z ([x, y, z]  ==>  [y, -x, z])\n"
     ]
    },
    {
     "data": {
      "application/vnd.jupyter.widget-view+json": {
       "model_id": "97455298a5244287987e012e0dd53eb9",
       "version_major": 2,
       "version_minor": 0
      },
      "text/plain": [
       "JsmolView(layout=Layout(align_self='stretch', height='400px'))"
      ]
     },
     "metadata": {},
     "output_type": "display_data"
    }
   ],
   "source": [
    "# Symétrie 1\n",
    "print(f\"Première opération de symétrie\")\n",
    "print(\"==================================================\")\n",
    "print(f\"Opération :\\n {sym1}\")\n",
    "print(f\"Atome étudié : Ni\")\n",
    "print(f\"Position avant l'opération : {Ni}\")\n",
    "Ni_sym = sym1.operate(Ni)\n",
    "print(f\"Position après l'opération : {Ni_sym}\")\n",
    "print(f\"Cette opération est une rotation de -90° (sens trigonométrique = sens positif) selon l'axe z (c) ([x, y, z]  ==>  [y, -x, z])\")\n",
    "view = quick_view(struct)\n",
    "display(view)\n",
    "view.script(\"draw symop 2 {atomno = 5}\")\n"
   ]
  },
  {
   "cell_type": "code",
   "execution_count": 9,
   "id": "989cb542",
   "metadata": {},
   "outputs": [
    {
     "name": "stdout",
     "output_type": "stream",
     "text": [
      "\n",
      "\n",
      "Seconde opération de symétrie\n",
      "==================================================\n",
      "Opération :\n",
      " Rot:\n",
      "[[ 1.  0.  0.]\n",
      " [ 0. -1.  0.]\n",
      " [ 0.  0. -1.]]\n",
      "tau\n",
      "[0. 0. 0.]\n",
      "Atome étudié : Ti\n",
      "Position avant l'opération : [0, 0, 0]\n",
      "Position après l'opération : [0. 0. 0.]\n",
      "Cette opération est une symétrie axiale selon l'axe x (a) ([x, y, z]  ==>  [x, -y, -z])\n"
     ]
    },
    {
     "data": {
      "application/vnd.jupyter.widget-view+json": {
       "model_id": "940655dc87b6418eaac166f55c766ab1",
       "version_major": 2,
       "version_minor": 0
      },
      "text/plain": [
       "JsmolView(layout=Layout(align_self='stretch', height='400px'))"
      ]
     },
     "metadata": {},
     "output_type": "display_data"
    }
   ],
   "source": [
    "# Symétrie 2\n",
    "print(f\"\\n\\nSeconde opération de symétrie\")\n",
    "print(\"==================================================\")\n",
    "print(f\"Opération :\\n {sym2}\")\n",
    "print(f\"Atome étudié : Ti\")\n",
    "print(f\"Position avant l'opération : {Ti}\")\n",
    "Ti_sym = sym2.operate(Ti)\n",
    "print(f\"Position après l'opération : {Ti_sym}\")\n",
    "print(f\"Cette opération est une symétrie axiale selon l'axe x (a) ([x, y, z]  ==>  [x, -y, -z])\")\n",
    "view = quick_view(struct)\n",
    "display(view)\n",
    "view.script(\"draw symop 5 {atomno = 4}\")"
   ]
  },
  {
   "cell_type": "code",
   "execution_count": 10,
   "id": "a39c6291",
   "metadata": {},
   "outputs": [
    {
     "name": "stdout",
     "output_type": "stream",
     "text": [
      "\n",
      "\n",
      "Troisième opération de symétrie\n",
      "==================================================\n",
      "Opération :\n",
      " Rot:\n",
      "[[-1.  0.  0.]\n",
      " [ 0. -1.  0.]\n",
      " [ 0.  0.  1.]]\n",
      "tau\n",
      "[0. 0. 0.]\n",
      "Atome étudié : Sn\n",
      "Position avant l'opération : [0.5, 0, 0]\n",
      "Position après l'opération : [-0.5  0.   0. ]\n",
      "Cette opération est une symétrie axiale selon l'axe z () ([x, y, z]  ==>  [-x, -y, z])\n"
     ]
    },
    {
     "data": {
      "application/vnd.jupyter.widget-view+json": {
       "model_id": "7b80029b35864373a205b6ffebf9a42b",
       "version_major": 2,
       "version_minor": 0
      },
      "text/plain": [
       "JsmolView(layout=Layout(align_self='stretch', height='400px'))"
      ]
     },
     "metadata": {},
     "output_type": "display_data"
    }
   ],
   "source": [
    "# Symétrie 3\n",
    "print(f\"\\n\\nTroisième opération de symétrie\")\n",
    "print(\"==================================================\")\n",
    "print(f\"Opération :\\n {sym3}\")\n",
    "print(f\"Atome étudié : Sn\")\n",
    "print(f\"Position avant l'opération : {Sn}\")\n",
    "Sn_sym = sym3.operate(Sn)\n",
    "print(f\"Position après l'opération : {Sn_sym}\")\n",
    "print(f\"Cette opération est une symétrie axiale selon l'axe z (c) ([x, y, z]  ==>  [-x, -y, z])\")\n",
    "view = quick_view(struct)\n",
    "display(view)\n",
    "view.script(\"draw symop 3 {atomno = 12}\")"
   ]
  }
 ],
 "metadata": {
  "kernelspec": {
   "display_name": "Python 3 (ipykernel)",
   "language": "python",
   "name": "python3"
  },
  "language_info": {
   "codemirror_mode": {
    "name": "ipython",
    "version": 3
   },
   "file_extension": ".py",
   "mimetype": "text/x-python",
   "name": "python",
   "nbconvert_exporter": "python",
   "pygments_lexer": "ipython3",
   "version": "3.9.13"
  }
 },
 "nbformat": 4,
 "nbformat_minor": 5
}
